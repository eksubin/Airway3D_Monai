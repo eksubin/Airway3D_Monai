{
 "cells": [
  {
   "cell_type": "code",
   "execution_count": 51,
   "metadata": {},
   "outputs": [
    {
     "name": "stdout",
     "output_type": "stream",
     "text": [
      "tensor([[nan],\n",
      "        [nan]])\n"
     ]
    }
   ],
   "source": [
    "import torch\n",
    "import monai\n",
    "import numpy as np\n",
    "\n",
    "# Define two tensors to compare\n",
    "shape = (2,2, 3)  # Specify the shape of the 3D array (3x4x5 in this example)\n",
    "tensor1 = np.random.rand(*shape)\n",
    "tensor2 = np.random.rand(*shape)\n",
    "\n",
    "# Calculate the Hausdorff distance using MONAI\n",
    "hausdorff_distance = monai.metrics.compute_hausdorff_distance(tensor1,tensor2)\n",
    "\n",
    "print(hausdorff_distance)\n"
   ]
  },
  {
   "cell_type": "code",
   "execution_count": 52,
   "metadata": {},
   "outputs": [
    {
     "data": {
      "text/plain": [
       "(2, 2, 3)"
      ]
     },
     "execution_count": 52,
     "metadata": {},
     "output_type": "execute_result"
    }
   ],
   "source": [
    "tensor1.shape"
   ]
  },
  {
   "cell_type": "code",
   "execution_count": 53,
   "metadata": {},
   "outputs": [
    {
     "data": {
      "text/plain": [
       "(2, 2, 3)"
      ]
     },
     "execution_count": 53,
     "metadata": {},
     "output_type": "execute_result"
    }
   ],
   "source": [
    "tensor2.shape"
   ]
  },
  {
   "cell_type": "code",
   "execution_count": 54,
   "metadata": {},
   "outputs": [
    {
     "ename": "TypeError",
     "evalue": "all(): argument 'input' (position 1) must be Tensor, not numpy.ndarray",
     "output_type": "error",
     "traceback": [
      "\u001b[0;31m---------------------------------------------------------------------------\u001b[0m",
      "\u001b[0;31mTypeError\u001b[0m                                 Traceback (most recent call last)",
      "Cell \u001b[0;32mIn[54], line 1\u001b[0m\n\u001b[0;32m----> 1\u001b[0m \u001b[39mif\u001b[39;00m torch\u001b[39m.\u001b[39;49mall(tensor1 \u001b[39m==\u001b[39;49m \u001b[39m0\u001b[39;49m):\n\u001b[1;32m      2\u001b[0m     warnings\u001b[39m.\u001b[39mwarn(\u001b[39m\"\u001b[39m\u001b[39my_pred is all 0, this may result in nan/inf distance\u001b[39m\u001b[39m\"\u001b[39m)\n\u001b[1;32m      3\u001b[0m \u001b[39mif\u001b[39;00m torch\u001b[39m.\u001b[39mall(tensor2 \u001b[39m==\u001b[39m \u001b[39m0\u001b[39m):\n",
      "\u001b[0;31mTypeError\u001b[0m: all(): argument 'input' (position 1) must be Tensor, not numpy.ndarray"
     ]
    }
   ],
   "source": [
    "if torch.all(tensor1 == 0):\n",
    "    warnings.warn(\"y_pred is all 0, this may result in nan/inf distance\")\n",
    "if torch.all(tensor2 == 0):\n",
    "    warnings.warn(\"y is all 0, this may result in nan/inf distance\")\n"
   ]
  },
  {
   "cell_type": "code",
   "execution_count": 55,
   "metadata": {},
   "outputs": [
    {
     "ename": "ValueError",
     "evalue": "Argument source has invalid number of dimensions. Must be 1 or 2.",
     "output_type": "error",
     "traceback": [
      "\u001b[0;31m---------------------------------------------------------------------------\u001b[0m",
      "\u001b[0;31mValueError\u001b[0m                                Traceback (most recent call last)",
      "Cell \u001b[0;32mIn[55], line 9\u001b[0m\n\u001b[1;32m      6\u001b[0m b \u001b[39m=\u001b[39m np\u001b[39m.\u001b[39mrandom\u001b[39m.\u001b[39mrand(\u001b[39m500\u001b[39m, \u001b[39m3\u001b[39m)\n\u001b[1;32m      8\u001b[0m \u001b[39m# Compute one-sided squared Hausdorff distances\u001b[39;00m\n\u001b[0;32m----> 9\u001b[0m hausdorff_a_to_b \u001b[39m=\u001b[39m pcu\u001b[39m.\u001b[39;49mone_sided_hausdorff_distance(tensor1, tensor2)\n\u001b[1;32m     10\u001b[0m hausdorff_b_to_a \u001b[39m=\u001b[39m pcu\u001b[39m.\u001b[39mone_sided_hausdorff_distance(tensor2, tensor1)\n\u001b[1;32m     12\u001b[0m \u001b[39m# Take a max of the one sided squared  distances to get the two sided Hausdorff distance\u001b[39;00m\n",
      "\u001b[0;31mValueError\u001b[0m: Argument source has invalid number of dimensions. Must be 1 or 2."
     ]
    }
   ],
   "source": [
    "import point_cloud_utils as pcu\n",
    "import numpy as np\n",
    "\n",
    "# Generate two random point sets\n",
    "a = np.random.rand(1000, 3)\n",
    "b = np.random.rand(500, 3)\n",
    "\n",
    "# Compute one-sided squared Hausdorff distances\n",
    "hausdorff_a_to_b = pcu.one_sided_hausdorff_distance(tensor1, tensor2)\n",
    "hausdorff_b_to_a = pcu.one_sided_hausdorff_distance(tensor2, tensor1)\n",
    "\n",
    "# Take a max of the one sided squared  distances to get the two sided Hausdorff distance\n",
    "hausdorff_dist = pcu.hausdorff_distance(a, b)\n"
   ]
  },
  {
   "cell_type": "code",
   "execution_count": 50,
   "metadata": {},
   "outputs": [
    {
     "data": {
      "text/plain": [
       "0.18086605263066768"
      ]
     },
     "execution_count": 50,
     "metadata": {},
     "output_type": "execute_result"
    }
   ],
   "source": [
    "hausdorff_dist"
   ]
  },
  {
   "cell_type": "code",
   "execution_count": 56,
   "metadata": {},
   "outputs": [],
   "source": [
    "# Ground truth mask\n",
    "y_true = np.array([[[2, 1, 4], [0, 1, 1], [2, 1, 0]],\n",
    "                   [[2, 2, 2], [0, 1, 0], [0, 1, 1]],\n",
    "                   [[2, 4, 4], [2, 1, 4], [2, 1, 1]]])\n",
    "\n",
    "# Predicted mask\n",
    "y_pred = np.array([[[2, 0, 4], [0, 2, 1], [2, 0, 0]],\n",
    "                   [[2, 4, 0], [0, 1, 2], [0, 4, 1]],\n",
    "                   [[2, 0, 4], [1, 1, 4], [2, 2, 1]]])\n"
   ]
  },
  {
   "cell_type": "code",
   "execution_count": 57,
   "metadata": {},
   "outputs": [
    {
     "data": {
      "text/plain": [
       "(3, 3, 3)"
      ]
     },
     "execution_count": 57,
     "metadata": {},
     "output_type": "execute_result"
    }
   ],
   "source": [
    "y_true.shape"
   ]
  },
  {
   "cell_type": "code",
   "execution_count": 62,
   "metadata": {},
   "outputs": [],
   "source": [
    "def one_hot_encode(array):\n",
    "   return np.eye(5)[array].astype(dtype=int).transpose(3, 0, 1, 2)[None]\n"
   ]
  },
  {
   "cell_type": "code",
   "execution_count": 63,
   "metadata": {},
   "outputs": [
    {
     "name": "stderr",
     "output_type": "stream",
     "text": [
      "the ground truth of class 3 is all 0, this may result in nan/inf distance.\n",
      "the prediction of class 3 is all 0, this may result in nan/inf distance.\n"
     ]
    },
    {
     "data": {
      "text/plain": [
       "tensor([[1.7321, 1.4142, 1.4142,    nan, 1.7321]])"
      ]
     },
     "execution_count": 63,
     "metadata": {},
     "output_type": "execute_result"
    }
   ],
   "source": [
    "monai.metrics.compute_hausdorff_distance(one_hot_encode(\n",
    "    y_pred), one_hot_encode(y_true), include_background=True)\n"
   ]
  },
  {
   "cell_type": "code",
   "execution_count": null,
   "metadata": {},
   "outputs": [],
   "source": [
    "### Testing transferlearning"
   ]
  },
  {
   "cell_type": "code",
   "execution_count": null,
   "metadata": {},
   "outputs": [],
   "source": []
  }
 ],
 "metadata": {
  "kernelspec": {
   "display_name": "Pytorch",
   "language": "python",
   "name": "pytorch"
  },
  "language_info": {
   "codemirror_mode": {
    "name": "ipython",
    "version": 3
   },
   "file_extension": ".py",
   "mimetype": "text/x-python",
   "name": "python",
   "nbconvert_exporter": "python",
   "pygments_lexer": "ipython3",
   "version": "3.11.3"
  },
  "orig_nbformat": 4
 },
 "nbformat": 4,
 "nbformat_minor": 2
}
