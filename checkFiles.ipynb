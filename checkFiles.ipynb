{
 "cells": [
  {
   "cell_type": "code",
   "execution_count": 7,
   "metadata": {},
   "outputs": [],
   "source": [
    "import glob, os\n",
    "train_images = sorted(\n",
    "    glob.glob(os.path.join('./Train', \"RTrainVolumes\", \"*.nrrd\")))\n",
    "train_labels = sorted(\n",
    "    glob.glob(os.path.join('./Train', \"RTrainLabels\", \"*.nrrd\")))\n",
    "data_dicts = [{\"image\": image_name, \"label\": label_name}\n",
    "              for image_name, label_name in zip(train_images, train_labels)]\n"
   ]
  },
  {
   "cell_type": "code",
   "execution_count": 12,
   "metadata": {},
   "outputs": [
    {
     "data": {
      "text/plain": [
       "'./Train/RTrainVolumes/P10a.nrrd'"
      ]
     },
     "execution_count": 12,
     "metadata": {},
     "output_type": "execute_result"
    }
   ],
   "source": [
    "len(train_images), len(train_labels)\n",
    "train_images[0]"
   ]
  },
  {
   "cell_type": "code",
   "execution_count": 21,
   "metadata": {},
   "outputs": [
    {
     "name": "stderr",
     "output_type": "stream",
     "text": [
      "monai.transforms.io.array LoadImage.__init__:image_only: Current default value of argument `image_only=False` has been deprecated since version 1.1. It will be changed to `image_only=True` in version 1.3.\n"
     ]
    }
   ],
   "source": [
    "from monai.transforms import  LoadImage\n",
    "\n",
    "for i in range(len(train_images)):\n",
    "    img = LoadImage(reader=\"NrrdReader\")(train_images[i])\n",
    "    msk = LoadImage(reader=\"NrrdReader\")(train_labels[i])\n",
    "    if img[0].shape == (32,256,256) and msk[0].shape==(32,256,256):\n",
    "        #print(os.path.basename(train_images[i]))\n",
    "        #print(img[0].shape,msk[0].shape)\n",
    "        pass\n",
    "    else:\n",
    "        print(issue is here)\n",
    "\n"
   ]
  },
  {
   "cell_type": "code",
   "execution_count": null,
   "metadata": {},
   "outputs": [],
   "source": []
  }
 ],
 "metadata": {
  "kernelspec": {
   "display_name": "Pytorch",
   "language": "python",
   "name": "python3"
  },
  "language_info": {
   "codemirror_mode": {
    "name": "ipython",
    "version": 3
   },
   "file_extension": ".py",
   "mimetype": "text/x-python",
   "name": "python",
   "nbconvert_exporter": "python",
   "pygments_lexer": "ipython3",
   "version": "3.11.3"
  },
  "orig_nbformat": 4
 },
 "nbformat": 4,
 "nbformat_minor": 2
}
